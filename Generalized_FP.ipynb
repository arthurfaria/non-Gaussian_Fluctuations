{
 "cells": [
  {
   "cell_type": "markdown",
   "metadata": {},
   "source": [
    "# Generalized Fokker Planck master equation"
   ]
  },
  {
   "cell_type": "code",
   "execution_count": 1,
   "metadata": {},
   "outputs": [],
   "source": [
    "import numpy as np\n",
    "import time as tm \n",
    "import pylab as plt\n",
    "\n",
    "from scipy import integrate\n",
    "from scipy import sparse\n",
    "plt.rcParams.update({'font.size': 20})\n",
    "#plt.rcParams.update({'font.size': 30})\n",
    "from mpmath import mp"
   ]
  },
  {
   "cell_type": "markdown",
   "metadata": {},
   "source": [
    "### Pre-definitions and parameters"
   ]
  },
  {
   "cell_type": "code",
   "execution_count": 2,
   "metadata": {},
   "outputs": [],
   "source": [
    "################## Parameters value\n",
    "\n",
    "dx = 1.0                     # spatial separation\n",
    "x = np.arange(-80,80, dx)    # spatial grid points\n",
    "\n",
    "m     = 1.0                  # mass\n",
    "omega = 0.5                  # HO frequency\n",
    "gamma = 10.0                 # dissip    \n",
    "KbT   = gamma                 \n",
    "Dif   = 2 * KbT/gamma        # D= nu/gamma^2 = 2KbT/gamma diffusion const\n",
    "sigma = 0.4 * gamma          # range/gamma^2\n",
    "\n",
    "varsigma = sigma/gamma\n",
    "\n",
    "################## Coefficients\n",
    "\n",
    "beta0 = 1\n",
    "beta1 = (1/2) * varsigma**2\n",
    "beta2 = (1/8) * varsigma**4\n",
    "beta3 = (1/48) * varsigma**6\n",
    "beta4 = (1/384) * varsigma**8\n",
    "\n",
    "zeta0 = 1/2 \n",
    "zeta1 = (1/8) * varsigma**2\n",
    "zeta2 = (1/48) * varsigma**4\n",
    "zeta3 = (1/384) * varsigma**6\n",
    "zeta4 = (1/3840) * varsigma**8\n",
    "\n",
    "C0 = (gamma*varsigma**2/Dif) * beta0 + zeta0\n",
    "C1 = (gamma*varsigma**2/Dif) * beta1 + zeta1\n",
    "C2 = (gamma*varsigma**2/Dif) * beta2 + zeta2\n",
    "C3 = (gamma*varsigma**2/Dif) * beta3 + zeta3\n",
    "C4 = (gamma*varsigma**2/Dif) * beta4 + zeta4\n",
    "\n",
    "################## Definition of analytical function for the BM\n",
    "\n",
    "kappa = gamma * Dif/omega**2\n",
    "\n",
    "Z = 1./(np.sqrt(2*np.pi*kappa * np.abs(- zeta0)))\n",
    "brow_an = Z * (np.exp(- x**2/(kappa)))"
   ]
  },
  {
   "cell_type": "markdown",
   "metadata": {},
   "source": [
    "### Master equation for the standard and for the generalized BMs (SBM and gBM, repectively) and initial $\\rho_0(x)$ "
   ]
  },
  {
   "cell_type": "code",
   "execution_count": 3,
   "metadata": {},
   "outputs": [
    {
     "name": "stdout",
     "output_type": "stream",
     "text": [
      "1.0\n"
     ]
    },
    {
     "data": {
      "text/plain": [
       "<Figure size 432x288 with 0 Axes>"
      ]
     },
     "execution_count": 3,
     "metadata": {},
     "output_type": "execute_result"
    },
    {
     "data": {
      "image/png": "[encoded data removed]",
      "text/plain": [
       "<Figure size 432x288 with 1 Axes>"
      ]
     },
     "metadata": {
      "needs_background": "light"
     },
     "output_type": "display_data"
    },
    {
     "data": {
      "text/plain": [
       "<Figure size 432x288 with 0 Axes>"
      ]
     },
     "metadata": {},
     "output_type": "display_data"
    }
   ],
   "source": [
    "################## Initial rho0   \n",
    "\n",
    "def ddf(x,sig):\n",
    "    x0 = x #- 10\n",
    "    val = np.zeros_like(x0)\n",
    "    val[(-(1/(10*sig))<=x0) & (x0<=(1/(10*sig)))] = 1\n",
    "    return val\n",
    "\n",
    "delta0 = ddf(x,1)            # initial delta\n",
    "print(np.trapz(delta0, x))   #normalization-check\n",
    "\n",
    "\n",
    "################## overdamped standard BM rho_t   \n",
    "\n",
    "def sBM_rho_t(t, rho):\n",
    "    B0 = omega**2/gamma * np.convolve(x*rho, [1,-1], 'same') / dx  \n",
    "    B2 = 1/2 * np.convolve(rho, [1,-2,1], 'same') / (dx**2)\n",
    "    #print(t)\n",
    "    return  B0 + Dif* B2 \n",
    "\n",
    "\n",
    "################## overdamped GenBM rho_t   \n",
    "\n",
    "def gBM_rho_t(t, rho):\n",
    "    D0 = omega**2/gamma * np.convolve(x*rho, [1,-1], 'same') / dx  \n",
    "    D2 = C0 * np.convolve(rho, [1,-2,1], 'same') / (dx**2)\n",
    "    D4 = C1 * np.convolve(rho, [1, -4, 6, -4, 1], 'same') / (dx**4)\n",
    "    D6 = C2 * np.convolve(rho, [1, -6, 15, -20, 15,  -6, 1], 'same') / (dx**6)\n",
    "    D8 = C3 * np.convolve(rho, [1, -8, 28, -56, 70, -56, 28, -8, 1], 'same') / (dx**8)\n",
    "    D10= C4 * np.convolve(rho, [1, -10, 45, -120, 210, -252, 210, -120, 45, -10, 1], 'same') / (dx**10)\n",
    "    return  D0 + Dif*(D2 + D4 + D6 + D8 + D10)\n",
    "\n",
    "################## Harmonic Force and Potential    \n",
    "\n",
    "V = 0.5 * omega**2 * (x)**2     # harmonic potential\n",
    "#F = - omega**2 * (x)           # harmonic force\n",
    "\n",
    "################## Plot of rho0 and V\n",
    "\n",
    "#plt.plot(x, V, \"k--\", label=r\"$V(x)$\")           # plot potential\n",
    "plt.plot(x, delta0, label=r\"$\\rho(x,0)$\")         # plot rho0\n",
    "\n",
    "#plt.xlim(-10, 10)\n",
    "plt.legend(loc=1, fontsize=12, fancybox=False)\n",
    "plt.figure()"
   ]
  },
  {
   "cell_type": "markdown",
   "metadata": {},
   "source": [
    "### Master equation solutions "
   ]
  },
  {
   "cell_type": "code",
   "execution_count": 4,
   "metadata": {},
   "outputs": [
    {
     "name": "stdout",
     "output_type": "stream",
     "text": [
      "The solver successfully reached the end of the integration interval.\n",
      "The solver successfully reached the end of the integration interval.\n",
      "\n",
      "0.23119449615478516\n"
     ]
    }
   ],
   "source": [
    "################## Time initial conditions\n",
    "\n",
    "dt = 0.1                       # time interval for snapshots\n",
    "t0 = 0.0                        # initial time\n",
    "tf = 100.0                       # final time\n",
    "t_eval = np.arange(t0, tf, dt)  # time range\n",
    "\n",
    "for i in t_eval:\n",
    "    t_dur = int(i/dt)\n",
    "    \n",
    "#print(t_dur)\n",
    "\n",
    "start = tm.time()\n",
    "\n",
    "#########################################################\n",
    "\n",
    "################## Solve the Initial Value Problem\n",
    "\n",
    "# overdamped standard BM\n",
    "sBM_sol = integrate.solve_ivp(sBM_rho_t, t_span=[t0, tf], y0=delta0, t_eval=t_eval,  method=\"RK23\")\n",
    "\n",
    "# overdamped generalized BM\n",
    "gBM_sol = integrate.solve_ivp(gBM_rho_t, t_span=[t0, tf], y0=delta0, t_eval=t_eval,  method=\"RK23\")\n",
    "\n",
    "print(sBM_sol.message)\n",
    "print(gBM_sol.message)\n",
    "\n",
    "##########omega = 0.5###############################################\n",
    "\n",
    "end = tm.time()\n",
    "print(\"\")\n",
    "print(end-start)"
   ]
  },
  {
   "cell_type": "markdown",
   "metadata": {},
   "source": [
    "### Plot of the numerical and analytical results of sBM steady-state \n",
    "\n",
    "* $\\rho^{sBM_{an}}_{ss}(x) $ \n",
    "* $\\rho^{sBM_{num}}_{ss}(x) $ "
   ]
  },
  {
   "cell_type": "code",
   "execution_count": 5,
   "metadata": {
    "scrolled": true
   },
   "outputs": [
    {
     "data": {
      "text/plain": [
       "<Figure size 432x288 with 0 Axes>"
      ]
     },
     "execution_count": 5,
     "metadata": {},
     "output_type": "execute_result"
    },
    {
     "data": {
      "image/png": "[encoded data removed]",
      "text/plain": [
       "<Figure size 576x288 with 1 Axes>"
      ]
     },
     "metadata": {
      "needs_background": "light"
     },
     "output_type": "display_data"
    },
    {
     "data": {
      "text/plain": [
       "<Figure size 432x288 with 0 Axes>"
      ]
     },
     "metadata": {},
     "output_type": "display_data"
    }
   ],
   "source": [
    "fig1 = plt.figure(figsize=(8, 4))\n",
    "\n",
    "plt.plot(x, brow_an , color='red', label=r\"$\\rho_{ss}^{sBM_{an}}(x)$\")\n",
    "plt.plot(x, sBM_sol.y[:,t_dur], color= 'darkblue', label=r\"$\\rho_{ss}^{sBM_{num}}(x)$\")\n",
    "\n",
    "plt.xlabel(r' $x$', fontsize = 25)\n",
    "plt.ylabel(r' $\\rho_{sBM}(x)$', fontsize = 25)\n",
    "\n",
    "plt.legend(loc=1, fontsize=15, fancybox=False)\n",
    "#fig1.savefig('/home/fariaart/Downloads/compar.png', transparent=False)\n",
    "\n",
    "plt.figure()"
   ]
  },
  {
   "cell_type": "markdown",
   "metadata": {},
   "source": [
    "### Plot of the numerical result of gBM steady-state $\\rho^{gBM_{num}}_{ss}(x)$ alongside with $\\rho^{sBM_{num}}_{ss}(x) $"
   ]
  },
  {
   "cell_type": "code",
   "execution_count": 6,
   "metadata": {},
   "outputs": [
    {
     "data": {
      "text/plain": [
       "<Figure size 432x288 with 0 Axes>"
      ]
     },
     "execution_count": 6,
     "metadata": {},
     "output_type": "execute_result"
    },
    {
     "data": {
      "image/png": "[encoded data removed]",
      "text/plain": [
       "<Figure size 576x288 with 1 Axes>"
      ]
     },
     "metadata": {
      "needs_background": "light"
     },
     "output_type": "display_data"
    },
    {
     "data": {
      "text/plain": [
       "<Figure size 432x288 with 0 Axes>"
      ]
     },
     "metadata": {},
     "output_type": "display_data"
    }
   ],
   "source": [
    "################## Plot of gBM_num and gBM_an\n",
    "\n",
    "fig2 = plt.figure(figsize=(8, 4))\n",
    "\n",
    "plt.plot(x, gBM_sol.y[:,t_dur], color='red', label=r\"$\\rho_{ss}^{gBM_{num}}(x)$\")\n",
    "plt.plot(x, sBM_sol.y[:,t_dur], color= 'darkblue', label=r\"$\\rho_{ss}^{sBM_{num}}(x)$\")\n",
    "\n",
    "#plt.ylim(0,0.08)\n",
    "plt.xlim(-50, 50)\n",
    "plt.xlabel(r' $x$', fontsize = 25)\n",
    "plt.ylabel(r' $\\rho_{gBM}(x)$', fontsize = 25)\n",
    "\n",
    "plt.legend(loc=1, fontsize=15, fancybox=False)\n",
    "#fig2.savefig('/home/fariaart/Downloads/compar.png', transparent=False)\n",
    "\n",
    "plt.figure()"
   ]
  }
 ],
 "metadata": {
  "kernelspec": {
   "display_name": "Python 3 (ipykernel)",
   "language": "python",
   "name": "python3"
  },
  "language_info": {
   "codemirror_mode": {
    "name": "ipython",
    "version": 3
   },
   "file_extension": ".py",
   "mimetype": "text/x-python",
   "name": "python",
   "nbconvert_exporter": "python",
   "pygments_lexer": "ipython3",
   "version": "3.8.10"
  }
 },
 "nbformat": 4,
 "nbformat_minor": 2
}
