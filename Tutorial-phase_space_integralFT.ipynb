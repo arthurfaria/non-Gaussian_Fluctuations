{
 "cells": [
  {
   "cell_type": "code",
   "execution_count": 1,
   "metadata": {},
   "outputs": [],
   "source": [
    "import pylab as plt\n",
    "import numpy as np\n",
    "import time as tm "
   ]
  },
  {
   "cell_type": "code",
   "execution_count": 2,
   "metadata": {},
   "outputs": [],
   "source": [
    "\n",
    "#Harmonic force and internal energy\n",
    "def energy_force(x, t, v0, ks):\n",
    "    F = -ks*(x - v0*t)\n",
    "    dF = ks*v0\n",
    "    return F, dF\n",
    "\n",
    "# asymmetrical normal distribution\n",
    "def d_random_normal(a,b):\n",
    "    np.seed(42)\n",
    "    x = np.sqrt(np.random.uniform(a,b))*np.random.normal(a,b)\n",
    "    return x\n",
    "\n",
    "# part A update\n",
    "def position_update(x, v, dt):\n",
    "    x_new = x + v*dt/2.\n",
    "    return x_new\n",
    "\n",
    "# part B update\n",
    "def velocity_update(v, a, F, dF, dt):\n",
    "    v_new = v + F*dt/2.\n",
    "    a_new = a + dF*dt/2.\n",
    "    return v_new, a_new\n",
    "\n",
    "# part O update\n",
    "def random_velocity_update(v, a, dt, mu, lamb, gamma, KbT):    \n",
    "    c_v1 = + np.exp(-gamma*dt)\n",
    "    c_v2 = + np.sqrt(1-np.exp(-2*gamma*dt))\n",
    "    #c_v3 = + np.sqrt(1-np.exp(-3*gamma*dt))\n",
    "    c_a1 = - gamma * np.exp(-gamma*dt)\n",
    "    c_a2 = + gamma * np.exp(-2*gamma*dt)/np.sqrt(1 - np.exp(-2*gamma*dt))\n",
    "    #c_a3 = + 3/2 * gamma * np.exp(-3*gamma*dt)/np.sqrt(1 - np.exp(-3*gamma*dt))\n",
    "    \n",
    "    Rg = np.sqrt(KbT) * np.random.normal(0,1)\n",
    "    Rp = np.sqrt(mu*lamb/(2*gamma)) * np.random.normal(0,1) * np.random.poisson(1)\n",
    "\n",
    "    rayleigh_d = np.square(1) * np.random.rayleigh(1)\n",
    "    Rp_v = np.sqrt(np.abs(v) * mu) * rayleigh_d * np.random.poisson(1)  \n",
    "\n",
    "    v_new = c_v1*v + c_v2*(Rg + Rp) #+ c_v3*(Rp_v)\n",
    "    a_new = c_a1*a + c_a2*(Rg + Rp) #+ c_a3*(Rp_v)\n",
    "    return v_new, a_new"
   ]
  },
  {
   "cell_type": "code",
   "execution_count": 3,
   "metadata": {},
   "outputs": [],
   "source": [
    "def BAOAB_method(*args):\n",
    "    mu, lamb = args[0], args[1]\n",
    "    x_init, v_init = args[2], args[3]\n",
    "    v0, ks, gamma, kBT = args[4], args[5], args[6], args[7]\n",
    "    tMax, dt = args[8], args[9]\n",
    "    x = x_init\n",
    "    v = v_init\n",
    "    a = 0\n",
    "    t = 0\n",
    "    time, d_s0, d_s1 = [], [], []\n",
    "    \n",
    "    while(t<tMax):\n",
    "        ##################\n",
    "        # part B\n",
    "        F, dF = energy_force(x, t, v0, ks)\n",
    "        v, a = velocity_update(v, a, F, dF, dt)\n",
    "        \n",
    "        # part A\n",
    "        x = position_update(x, v, dt)\n",
    "        \n",
    "        # part O\n",
    "        v, a = random_velocity_update(v, a, dt, mu, lamb, gamma, kBT)\n",
    "        \n",
    "        # part A\n",
    "        x = position_update(x, v, dt)\n",
    "    \n",
    "        # part B\n",
    "        F, dF = energy_force(x, t, v0, ks)\n",
    "        v, a = velocity_update(v, a, F, dF, dt)\n",
    "        ##################\n",
    "    \n",
    "        # S per trajectory calculation\n",
    "        F, dF = energy_force(x, t, v0, ks)\n",
    "        ds0 = v0*F/kBT \n",
    "        ds1 = mu * a * (v * (-3*kBT + v**2)/(4*kBT**3))\n",
    "\n",
    "        time.append(t)\n",
    "        d_s0.append(ds0)\n",
    "        d_s1.append(ds1)\n",
    "\n",
    "        t += dt\n",
    "        if t >= tMax//2:\n",
    "            v0 = 0\n",
    "\n",
    "    return time, d_s0, d_s1"
   ]
  },
  {
   "cell_type": "code",
   "execution_count": 4,
   "metadata": {},
   "outputs": [],
   "source": [
    "# Parameters and time\n",
    "v0 = 0.2\n",
    "ks = 1.0\n",
    "gamma = 1.0\n",
    "KbT = 5.\n",
    "\n",
    "dt = 0.01\n",
    "tMax = 350 \n",
    "\n",
    "mu = 0.01\n",
    "lamb = gamma\n",
    "\n",
    "# Sample conditions\n",
    "N = 10**4\n",
    "x_init = 0.3\n",
    "v_init = 0.\n",
    "\n",
    "# Work vector definition and extras\n",
    "gauss_sF = np.zeros(N)\n",
    "sF0, sF1 = np.zeros(N), np.zeros(N)"
   ]
  },
  {
   "cell_type": "code",
   "execution_count": 5,
   "metadata": {},
   "outputs": [
    {
     "name": "stdout",
     "output_type": "stream",
     "text": [
      "63.7253474632899\n"
     ]
    }
   ],
   "source": [
    "###################### MAIN #############################\n",
    "start = tm.time()\n",
    "\n",
    "########### Gaussian EP ###########\n",
    "# Stochastic evolution and work for each trajectory in a sample\n",
    "param_F = tuple([0.0, 0.0, x_init, v_init, v0, ks, gamma, KbT, tMax, dt])\n",
    "\n",
    "#for ii in range(N): \n",
    "    #t_F, ds_F, _, = BAOAB_method(*param_F)\n",
    "    #gauss_sF[ii] = np.trapz(ds_F, t_F)\n",
    "\n",
    "########### NG EP ###########\n",
    "# Stochastic evolution and work for each trajectory in a sample\n",
    "nG_param_F = tuple([mu, lamb, x_init, v_init, v0, ks, gamma, KbT, tMax, dt])\n",
    "\n",
    "for ii in range(N): \n",
    "    t_sF, ds0_F, ds1_F = BAOAB_method(*nG_param_F)\n",
    "    sF0[ii] = np.trapezoid(ds0_F, t_sF)\n",
    "    sF1[ii] = np.trapezoid(ds1_F, t_sF)\n",
    "\n",
    "end = tm.time()\n",
    "print((end-start)/60)\n",
    "#########################################################"
   ]
  },
  {
   "cell_type": "code",
   "execution_count": 6,
   "metadata": {},
   "outputs": [
    {
     "name": "stdout",
     "output_type": "stream",
     "text": [
      "1.3894799180831572 2.7772436822179243\n",
      "0.08820381848018002 0.018089997319863486\n",
      "\n",
      "1.301276099602977\n",
      "2.794848441664138\n",
      "3.054949173840798\n"
     ]
    }
   ],
   "source": [
    "# An. coeficients \n",
    "nG_sF0 = sF0\n",
    "nG_sF1 =  sF1 \n",
    "\n",
    "print(np.mean(nG_sF0), np.var(nG_sF0))\n",
    "print(np.mean(nG_sF1), np.var(nG_sF1))\n",
    "\n",
    "# Statistics\n",
    "Y = nG_sF0 - nG_sF1\n",
    "mean_v = np.mean(Y)\n",
    "quant2 = np.abs(Y - mean_v)**2\n",
    "var_v = np.sum(quant2)/N\n",
    "kur_v = np.sum((quant2)**2)/N/var_v**2\n",
    "\n",
    "print();print(mean_v)\n",
    "print(var_v)\n",
    "print(kur_v)"
   ]
  },
  {
   "cell_type": "code",
   "execution_count": 7,
   "metadata": {},
   "outputs": [],
   "source": [
    "from scipy.optimize import leastsq\n",
    "fitfunc  = lambda p, x: p[0]*np.exp(-0.5*((x-p[1])/p[2])**2 + p[3]) + p[4]\n",
    "errfunc  = lambda p, x, y: (y - fitfunc(p, x))\n",
    "init  = [1.0, 0.5, 0.5, 0.8, 0.5]"
   ]
  },
  {
   "cell_type": "code",
   "execution_count": 8,
   "metadata": {},
   "outputs": [
    {
     "name": "stdout",
     "output_type": "stream",
     "text": [
      "0.2558711588968583\n",
      "\n",
      "131.26596933921277 0.5169082545063722 0.5349944988927736 -130.41185758970104 0.10775862057594204\n",
      "350\n"
     ]
    },
    {
     "data": {
      "image/png": "[encoded data removed]",
      "text/plain": [
       "<Figure size 640x480 with 1 Axes>"
      ]
     },
     "metadata": {},
     "output_type": "display_data"
    }
   ],
   "source": [
    "plt.rcParams.update({'font.size': 16})\n",
    "n_bins = 100\n",
    "#range_hist = (-1.3,1.9)\n",
    "range_hist = (-3.3,5.98)\n",
    "\n",
    "########## Work Histogram and Analitical curve ##########\n",
    "plt.figure(constrained_layout=True)\n",
    "\n",
    "nF, binsF, _ = plt.hist(\n",
    "    Y,\n",
    "    color = 'darkblue', \n",
    "    range =  range_hist,\n",
    "    histtype='bar', \n",
    "    linewidth=4, \n",
    "    alpha= 0.2, \n",
    "    ec=(0.165, 0.52, 0.87),\n",
    "    bins= n_bins, \n",
    "    density=True,  \n",
    "    label = r'$\\varrho(\\mathsf{\\Sigma})$'\n",
    "    )\n",
    "\n",
    "print(np.max(nF))\n",
    "\n",
    "out_F = leastsq(errfunc, init, args=(binsF[:-1], nF))\n",
    "fit_F = fitfunc(out_F[0], binsF[:-1])\n",
    "c_F = out_F[0]\n",
    "print();print(c_F[0], c_F[1], c_F[2], c_F[3], c_F[4])\n",
    "\n",
    "plt.plot(binsF[:-1], fit_F, color = (0/255, 42/255, 64/255), alpha= 0.8, label = 'nG fit')\n",
    "\n",
    "plt.xlabel(r'$\\mathsf{\\Sigma}$', fontsize = 22, labelpad = 4)\n",
    "plt.legend(loc='upper right', fontsize = 18)\n",
    "plt.savefig('/Users/fariaart/Downloads/dist_%s.pdf' %mu, transparent=False)\n",
    "print(tMax)"
   ]
  },
  {
   "cell_type": "code",
   "execution_count": 9,
   "metadata": {},
   "outputs": [
    {
     "name": "stdout",
     "output_type": "stream",
     "text": [
      "-3.2072 -3.3\n"
     ]
    },
    {
     "data": {
      "text/plain": [
       "np.float64(0.9999999989447411)"
      ]
     },
     "execution_count": 9,
     "metadata": {},
     "output_type": "execute_result"
    }
   ],
   "source": [
    "print(binsF[1],binsF[0])\n",
    "bin_width = binsF[1] - binsF[0]\n",
    "# sum over number in each bin and mult by bin width, which can be factored out\n",
    "integral = bin_width * sum(fit_F)\n",
    "integral"
   ]
  },
  {
   "cell_type": "code",
   "execution_count": 13,
   "metadata": {},
   "outputs": [
    {
     "name": "stdout",
     "output_type": "stream",
     "text": [
      "0.9978176968621718\n"
     ]
    }
   ],
   "source": [
    "fun = np.exp(-binsF[:-1])*nF\n",
    "intg = np.trapezoid(fun, binsF[:-1])\n",
    "print(intg)"
   ]
  },
  {
   "cell_type": "code",
   "execution_count": 11,
   "metadata": {},
   "outputs": [
    {
     "data": {
      "image/png": "[encoded data removed]",
      "text/plain": [
       "<Figure size 640x480 with 1 Axes>"
      ]
     },
     "metadata": {},
     "output_type": "display_data"
    }
   ],
   "source": [
    "vec = [1.0082617038027362, #100\n",
    "       1.009024096913803, #125\n",
    "       0.9967196003495216, #150\n",
    "       0.9967196003495216, #175\n",
    "       0.9986321650594288, #200\n",
    "       1.0125571634389445, #225\n",
    "       1.016352902137633, #250\n",
    "       1.003207976751417, #275\n",
    "       1.0044379852783867, #300\n",
    "       0.9963204891485704, #325\n",
    "       1.011100490686736, #350\n",
    "       0.9991571330128786, #375\n",
    "       0.9967056907237644] #400\n",
    "\n",
    "tau = [1.0, 1.25, 1.5, 1.75, 2., 2.25, 2.5, 2.75, 3., 3.25, 3.5, 3.75, 4.]\n",
    "\n",
    "def const(x):\n",
    "    return np.full(x.shape, 1)\n",
    "\n",
    "plt.rcParams.update({'font.size': 16})\n",
    "t1 = np.linspace(0.95,4.05,100)\n",
    "plt.figure(constrained_layout=True)\n",
    "plt.ylim(0.55,1.45)\n",
    "plt.plot(tau, vec, 'P', color = \"darkred\", markersize= 8.0, label = 'num',)\n",
    "plt.plot(t1, const(t1), color = 'lightcoral', linewidth= 3, alpha = 0.6, label = 'an' )\n",
    "plt.xlabel(r'$\\tau$', fontsize = 21, labelpad = -1)\n",
    "plt.ylabel(r'$\\int_{-\\infty}^{\\infty} d\\mathsf{\\Sigma}\\, e^{-\\mathsf{\\Sigma}}\\varrho(\\mathsf{\\Sigma})$', fontsize = 21, labelpad = 2)\n",
    "plt.legend(loc='upper left', fontsize = 16)\n",
    "plt.savefig('/Users/fariaart/Downloads/Jarzy-FT_%s.pdf' %mu, transparent=False)\n",
    "plt.show()"
   ]
  }
 ],
 "metadata": {
  "kernelspec": {
   "display_name": "Python 3 (ipykernel)",
   "language": "python",
   "name": "python3"
  },
  "language_info": {
   "codemirror_mode": {
    "name": "ipython",
    "version": 3
   },
   "file_extension": ".py",
   "mimetype": "text/x-python",
   "name": "python",
   "nbconvert_exporter": "python",
   "pygments_lexer": "ipython3",
   "version": "3.12.9"
  }
 },
 "nbformat": 4,
 "nbformat_minor": 4
}
